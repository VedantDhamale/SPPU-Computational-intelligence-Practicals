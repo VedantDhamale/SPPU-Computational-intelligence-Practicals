{
 "cells": [
  {
   "cell_type": "code",
   "execution_count": 1,
   "id": "2988a144-65e1-4d93-ae2c-67028152caa4",
   "metadata": {},
   "outputs": [],
   "source": [
    "class Server:\n",
    "    def __init__(self,id):\n",
    "        self.id=id\n",
    "        self.connection=0\n",
    "    def handleReq(self):\n",
    "        self.connection+=1\n",
    "        print(f'Server{self.id}: Active connection:{self.connection}')\n",
    "    def getLoad(self):\n",
    "        return self.connection"
   ]
  },
  {
   "cell_type": "code",
   "execution_count": 2,
   "id": "ae1c1900-aa5c-4cbd-97bd-9f55043d0253",
   "metadata": {},
   "outputs": [],
   "source": [
    "class LoadBalancer:\n",
    "    def __init__(self,servers):\n",
    "        self.servers=servers\n",
    "\n",
    "    def roundrobin(self):\n",
    "        server=self.servers.pop(0)\n",
    "        self.servers.append(server)\n",
    "        server.handleReq()\n",
    "        return server\n",
    "\n",
    "    def leastConnection(self):\n",
    "        server = min(self.servers, key=lambda s: s.getLoad())\n",
    "        server.handleReq()\n",
    "        return server\n",
    "        "
   ]
  },
  {
   "cell_type": "code",
   "execution_count": 3,
   "id": "52830909-9370-456f-9143-4849ca0b3804",
   "metadata": {},
   "outputs": [],
   "source": [
    "servers=[Server(i) for i in range(3)]\n",
    "rb=LoadBalancer(servers)\n",
    "noOfReq=10\n",
    "\n",
    "    "
   ]
  },
  {
   "cell_type": "code",
   "execution_count": 4,
   "id": "2e71f9f1-722c-4b92-b430-ce764c65a5b4",
   "metadata": {},
   "outputs": [
    {
     "name": "stdout",
     "output_type": "stream",
     "text": [
      "Server0: Active connection:1\n",
      "Server1: Active connection:1\n",
      "Server2: Active connection:1\n",
      "Server0: Active connection:2\n",
      "Server1: Active connection:2\n",
      "Server2: Active connection:2\n",
      "Server0: Active connection:3\n",
      "Server1: Active connection:3\n",
      "Server2: Active connection:3\n",
      "Server0: Active connection:4\n"
     ]
    }
   ],
   "source": [
    "for i in range(noOfReq):\n",
    "    ser=rb.roundrobin()"
   ]
  },
  {
   "cell_type": "code",
   "execution_count": 5,
   "id": "a35a584c-0c63-422f-b4b7-93270dd8e9eb",
   "metadata": {},
   "outputs": [
    {
     "name": "stdout",
     "output_type": "stream",
     "text": [
      "Server1: Active connection:4\n",
      "Server2: Active connection:4\n",
      "Server1: Active connection:5\n",
      "Server2: Active connection:5\n",
      "Server0: Active connection:5\n",
      "Server1: Active connection:6\n",
      "Server2: Active connection:6\n",
      "Server0: Active connection:6\n",
      "Server1: Active connection:7\n",
      "Server2: Active connection:7\n"
     ]
    }
   ],
   "source": [
    "for i in range(10):\n",
    "    rb.leastConnection()"
   ]
  },
  {
   "cell_type": "code",
   "execution_count": 11,
   "id": "5d0c20dc-f5a9-43d1-8c50-f9b382c72493",
   "metadata": {},
   "outputs": [],
   "source": []
  },
  {
   "cell_type": "code",
   "execution_count": null,
   "id": "9d503a40-1932-49ce-8fb6-137b24715092",
   "metadata": {},
   "outputs": [],
   "source": []
  }
 ],
 "metadata": {
  "kernelspec": {
   "display_name": "ds_env",
   "language": "python",
   "name": "python3"
  },
  "language_info": {
   "codemirror_mode": {
    "name": "ipython",
    "version": 3
   },
   "file_extension": ".py",
   "mimetype": "text/x-python",
   "name": "python",
   "nbconvert_exporter": "python",
   "pygments_lexer": "ipython3",
   "version": "3.11.8"
  }
 },
 "nbformat": 4,
 "nbformat_minor": 5
}
