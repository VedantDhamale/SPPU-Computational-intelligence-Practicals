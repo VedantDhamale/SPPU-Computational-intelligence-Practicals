{
 "cells": [
  {
   "cell_type": "code",
   "execution_count": 6,
   "metadata": {},
   "outputs": [
    {
     "name": "stdout",
     "output_type": "stream",
     "text": [
      "Round Robin Load Balancing:\n",
      "Request 1 directed to Server1\n",
      "Request 2 directed to Server2\n",
      "Request 3 directed to Server3\n",
      "Request 4 directed to Server4\n",
      "Request 5 directed to Server1\n",
      "Request 6 directed to Server2\n",
      "Request 7 directed to Server3\n",
      "Request 8 directed to Server4\n",
      "Request 9 directed to Server1\n",
      "Request 10 directed to Server2\n",
      "\n",
      "Random Load Balancing:\n",
      "Request 1 directed to Server3\n",
      "Request 2 directed to Server3\n",
      "Request 3 directed to Server1\n",
      "Request 4 directed to Server3\n",
      "Request 5 directed to Server2\n",
      "Request 6 directed to Server4\n",
      "Request 7 directed to Server2\n",
      "Request 8 directed to Server1\n",
      "Request 9 directed to Server4\n",
      "Request 10 directed to Server4\n"
     ]
    }
   ],
   "source": [
    "import random\n",
    "\n",
    "class LB:\n",
    "    def __init__(self, servers):\n",
    "        self.servers = servers\n",
    "        self.index = 0\n",
    "\n",
    "    def round_robin(self):\n",
    "        server = self.servers[self.index]\n",
    "        self.index = (self.index + 1) % len(self.servers)\n",
    "        return server\n",
    "\n",
    "    def random(self):\n",
    "        return random.choice(self.servers)\n",
    "\n",
    "# Example usage\n",
    "servers = ['Server1', 'Server2', 'Server3', 'Server4']\n",
    "lb = LB(servers)\n",
    "\n",
    "# Simulate 20 client requests\n",
    "print(\"Round Robin Load Balancing:\")\n",
    "for i in range(10):\n",
    "    print(f\"Request {i+1} directed to {lb.round_robin()}\")\n",
    "\n",
    "print(\"\\nRandom Load Balancing:\")\n",
    "for i in range(10):\n",
    "    print(f\"Request {i+1} directed to {lb.random()}\")"
   ]
  },
  {
   "cell_type": "code",
   "execution_count": null,
   "metadata": {},
   "outputs": [],
   "source": []
  }
 ],
 "metadata": {
  "kernelspec": {
   "display_name": "ds_env",
   "language": "python",
   "name": "python3"
  },
  "language_info": {
   "codemirror_mode": {
    "name": "ipython",
    "version": 3
   },
   "file_extension": ".py",
   "mimetype": "text/x-python",
   "name": "python",
   "nbconvert_exporter": "python",
   "pygments_lexer": "ipython3",
   "version": "3.11.8"
  }
 },
 "nbformat": 4,
 "nbformat_minor": 2
}
