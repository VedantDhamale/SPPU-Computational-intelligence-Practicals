{
 "cells": [
  {
   "cell_type": "code",
   "execution_count": 1,
   "metadata": {},
   "outputs": [],
   "source": [
    "from typing import List\n",
    "import random"
   ]
  },
  {
   "cell_type": "code",
   "execution_count": 7,
   "metadata": {},
   "outputs": [],
   "source": [
    "class Server:\n",
    "    def __init__(self, server_id):\n",
    "        self.server_id = server_id\n",
    "        self.connections = 0\n",
    "    \n",
    "    def handle_request(self):\n",
    "        self.connections += 1\n",
    "    \n",
    "    def get_load(self):\n",
    "        return self.connections"
   ]
  },
  {
   "cell_type": "code",
   "execution_count": 8,
   "metadata": {},
   "outputs": [],
   "source": [
    "class LoadBalancer:\n",
    "    def __init__(self, servers):\n",
    "        self.servers = servers\n",
    "        self.current_index = 0  \n",
    "    \n",
    "    def round_robin(self, request_id):\n",
    "        server = self.servers.pop(0)  \n",
    "        server.handle_request()\n",
    "        print(f\"Request {request_id} -> Server {server.server_id}\")\n",
    "        self.servers.append(server)  \n",
    "    \n",
    "    def get_loads(self):\n",
    "        return {server.server_id: server.get_load() for server in self.servers}"
   ]
  },
  {
   "cell_type": "code",
   "execution_count": 9,
   "metadata": {},
   "outputs": [
    {
     "name": "stdout",
     "output_type": "stream",
     "text": [
      "Request Distribution:\n",
      "Request 1 -> Server 0\n",
      "Request 2 -> Server 1\n",
      "Request 3 -> Server 2\n",
      "Request 4 -> Server 0\n",
      "Request 5 -> Server 1\n",
      "Request 6 -> Server 2\n",
      "Request 7 -> Server 0\n",
      "Request 8 -> Server 1\n",
      "Request 9 -> Server 2\n",
      "Request 10 -> Server 0\n",
      "\n",
      "Final Server Loads:\n",
      "Server 1: 3 connections\n",
      "Server 2: 3 connections\n",
      "Server 0: 4 connections\n"
     ]
    }
   ],
   "source": [
    "\n",
    "servers = [Server(i) for i in range(3)]\n",
    "lb = LoadBalancer(servers)\n",
    "\n",
    "print(\"Request Distribution:\")\n",
    "for request_id in range(1, 11):\n",
    "    lb.round_robin(request_id)\n",
    "\n",
    "print(\"\\nFinal Server Loads:\")\n",
    "for server_id, load in lb.get_loads().items():\n",
    "    print(f\"Server {server_id}: {load} connections\")\n"
   ]
  },
  {
   "cell_type": "code",
   "execution_count": null,
   "metadata": {},
   "outputs": [],
   "source": []
  },
  {
   "cell_type": "code",
   "execution_count": null,
   "metadata": {},
   "outputs": [],
   "source": []
  }
 ],
 "metadata": {
  "kernelspec": {
   "display_name": "ds_env",
   "language": "python",
   "name": "python3"
  },
  "language_info": {
   "codemirror_mode": {
    "name": "ipython",
    "version": 3
   },
   "file_extension": ".py",
   "mimetype": "text/x-python",
   "name": "python",
   "nbconvert_exporter": "python",
   "pygments_lexer": "ipython3",
   "version": "3.11.8"
  }
 },
 "nbformat": 4,
 "nbformat_minor": 2
}
