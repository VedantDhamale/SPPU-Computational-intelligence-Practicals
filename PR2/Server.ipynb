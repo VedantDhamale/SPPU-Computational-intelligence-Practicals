{
 "cells": [
  {
   "cell_type": "code",
   "execution_count": null,
   "id": "37c922ea-1ed1-40f5-a0bc-c709294b630a",
   "metadata": {},
   "outputs": [
    {
     "name": "stdout",
     "output_type": "stream",
     "text": [
      "Object <class '__main__.StringConcatenator'>:\n",
      "    uri = PYRO:obj_3a8332893a2440aa8ac6f815cf337fe6@localhost:35713\n",
      "    name = example.stringconcatenator\n",
      "Pyro daemon running.\n"
     ]
    }
   ],
   "source": [
    "import Pyro4\n",
    "\n",
    "@Pyro4.expose\n",
    "class StringConcatenator:\n",
    "    def concatenate(self, str1, str2):\n",
    "        try:\n",
    "            if not isinstance(str1, str) or not isinstance(str2, str):\n",
    "                raise ValueError(\"Both inputs must be strings.\")\n",
    "            return str1 + str2\n",
    "        except Exception as e:\n",
    "            return f\"Error: {str(e)}\"\n",
    "\n",
    "def main():\n",
    "    try:\n",
    "        Pyro4.Daemon.serveSimple(\n",
    "            {\n",
    "                StringConcatenator: \"example.stringconcatenator\"\n",
    "            },\n",
    "            ns=True)\n",
    "    except Exception as e:\n",
    "        print(f\"Failed to start server: {str(e)}\")\n",
    "\n",
    "if __name__ == \"__main__\":\n",
    "    main()\n"
   ]
  }
 ],
 "metadata": {
  "kernelspec": {
   "display_name": "ds_env",
   "language": "python",
   "name": "python3"
  },
  "language_info": {
   "codemirror_mode": {
    "name": "ipython",
    "version": 3
   },
   "file_extension": ".py",
   "mimetype": "text/x-python",
   "name": "python",
   "nbconvert_exporter": "python",
   "pygments_lexer": "ipython3",
   "version": "3.11.8"
  }
 },
 "nbformat": 4,
 "nbformat_minor": 5
}
