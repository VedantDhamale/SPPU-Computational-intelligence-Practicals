{
 "cells": [
  {
   "cell_type": "code",
   "execution_count": 23,
   "id": "d6ad2d01-ba71-4e0c-8856-fc738510f663",
   "metadata": {},
   "outputs": [
    {
     "name": "stdout",
     "output_type": "stream",
     "text": [
      "Enter the first string:  dff\n",
      "Enter the second string:  fd\n"
     ]
    },
    {
     "name": "stdout",
     "output_type": "stream",
     "text": [
      "Concatenated String: dfffd\n"
     ]
    }
   ],
   "source": [
    "import Pyro4\n",
    "\n",
    "def main():\n",
    "    try:\n",
    "        string_concatenator = Pyro4.Proxy(\"PYRONAME:example.stringconcatenator\")\n",
    "\n",
    "        str1 = input(\"Enter the first string: \")\n",
    "        str2 = input(\"Enter the second string: \")\n",
    "\n",
    "        result = string_concatenator.concatenate(str1, str2)\n",
    "        \n",
    "        if \"Error:\" in result:\n",
    "            print(result)\n",
    "        else:\n",
    "            print(f\"Concatenated String: {result}\")\n",
    "\n",
    "    except Pyro4.errors.CommunicationError:\n",
    "        print(\"Could not communicate with the server. Please ensure it is running.\")\n",
    "    except Exception as e:\n",
    "        print(f\"An error occurred: {str(e)}\")\n",
    "\n",
    "if __name__ == \"__main__\":\n",
    "    main()\n"
   ]
  }
 ],
 "metadata": {
  "kernelspec": {
   "display_name": "ds_env",
   "language": "python",
   "name": "python3"
  },
  "language_info": {
   "codemirror_mode": {
    "name": "ipython",
    "version": 3
   },
   "file_extension": ".py",
   "mimetype": "text/x-python",
   "name": "python",
   "nbconvert_exporter": "python",
   "pygments_lexer": "ipython3",
   "version": "3.11.8"
  }
 },
 "nbformat": 4,
 "nbformat_minor": 5
}
