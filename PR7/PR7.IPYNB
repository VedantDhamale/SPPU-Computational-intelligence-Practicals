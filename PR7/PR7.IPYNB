{
 "cells": [
  {
   "cell_type": "code",
   "execution_count": 1,
   "metadata": {},
   "outputs": [
    {
     "name": "stdout",
     "output_type": "stream",
     "text": [
      "Union: [1, 2, 3, 4], [0.6, 0.8, 0.9, 0.4]\n",
      "Intersection: [1, 2, 3, 4], [0, 0.5, 0.7, 0]\n",
      "Complement of A: [1, 2, 3], [0.4, 0.19999999999999996, 0.09999999999999998]\n",
      "Difference (A - B): [1, 2, 3, 4], [0.6, 0.5, 0.30000000000000004, 0]\n",
      "Cartesian Product (R): [((1, 2), 0.5), ((1, 3), 0.6), ((1, 4), 0.4), ((2, 2), 0.5), ((2, 3), 0.7), ((2, 4), 0.4), ((3, 2), 0.5), ((3, 3), 0.7), ((3, 4), 0.4)]\n",
      "Max-Min Composition Result: [((1, 3), 0.5), ((1, 3), 0.6), ((1, 3), 0.4), ((2, 3), 0.5), ((2, 3), 0.7), ((2, 3), 0.4), ((3, 3), 0.5), ((3, 3), 0.7), ((3, 3), 0.4)]\n"
     ]
    }
   ],
   "source": [
    "import numpy as np\n",
    "\n",
    "def union(A_elements, A_memberships, B_elements, B_memberships):\n",
    "    result_elements = sorted(set(A_elements + B_elements))\n",
    "    result_memberships = [max(get_membership(e, A_elements, A_memberships), \n",
    "                              get_membership(e, B_elements, B_memberships)) for e in result_elements]\n",
    "    return result_elements, result_memberships\n",
    "\n",
    "def intersection(A_elements, A_memberships, B_elements, B_memberships):\n",
    "    result_elements = sorted(set(A_elements + B_elements))\n",
    "    result_memberships = [min(get_membership(e, A_elements, A_memberships), \n",
    "                              get_membership(e, B_elements, B_memberships)) for e in result_elements]\n",
    "    return result_elements, result_memberships\n",
    "\n",
    "def complement(elements, memberships):\n",
    "    result_memberships = [1 - m for m in memberships]\n",
    "    return elements, result_memberships\n",
    "\n",
    "def difference(A_elements, A_memberships, B_elements, B_memberships):\n",
    "    result_elements = sorted(set(A_elements + B_elements))\n",
    "    result_memberships = [min(get_membership(e, A_elements, A_memberships), \n",
    "                              1 - get_membership(e, B_elements, B_memberships)) for e in result_elements]\n",
    "    return result_elements, result_memberships\n",
    "\n",
    "def get_membership(element, elements, memberships):\n",
    "    if element in elements:\n",
    "        return memberships[elements.index(element)]\n",
    "    else:\n",
    "        return 0\n",
    "\n",
    "def cartesian_product(A_elements, A_memberships, B_elements, B_memberships):\n",
    "    relation = []\n",
    "    for a in A_elements:\n",
    "        for b in B_elements:\n",
    "            relation.append(((a, b), min(get_membership(a, A_elements, A_memberships), \n",
    "                                         get_membership(b, B_elements, B_memberships))))\n",
    "    return relation\n",
    "\n",
    "def max_min_composition(R, S):\n",
    "    result = []\n",
    "    for (a, b), r_val in R:\n",
    "        max_min_value = 0\n",
    "        for (x, y), s_val in S:\n",
    "            if b == x:\n",
    "                max_min_value = max(max_min_value, min(r_val, s_val))\n",
    "        if max_min_value > 0:\n",
    "            result.append(((a, y), max_min_value))\n",
    "    return result\n",
    "\n",
    "A_elements = [1, 2, 3]\n",
    "A_memberships = [0.6, 0.8, 0.9]\n",
    "\n",
    "B_elements = [2, 3, 4]\n",
    "B_memberships = [0.5, 0.7, 0.4]\n",
    "\n",
    "union_elements, union_memberships = union(A_elements, A_memberships, B_elements, B_memberships)\n",
    "print(f\"Union: {union_elements}, {union_memberships}\")\n",
    "\n",
    "intersection_elements, intersection_memberships = intersection(A_elements, A_memberships, B_elements, B_memberships)\n",
    "print(f\"Intersection: {intersection_elements}, {intersection_memberships}\")\n",
    "\n",
    "complement_elements, complement_memberships = complement(A_elements, A_memberships)\n",
    "print(f\"Complement of A: {complement_elements}, {complement_memberships}\")\n",
    "\n",
    "difference_elements, difference_memberships = difference(A_elements, A_memberships, B_elements, B_memberships)\n",
    "print(f\"Difference (A - B): {difference_elements}, {difference_memberships}\")\n",
    "\n",
    "relation_R = cartesian_product(A_elements, A_memberships, B_elements, B_memberships)\n",
    "print(f\"Cartesian Product (R): {relation_R}\")\n",
    "\n",
    "relation_S = cartesian_product(B_elements, B_memberships, A_elements, A_memberships)\n",
    "composition_result = max_min_composition(relation_R, relation_S)\n",
    "print(f\"Max-Min Composition Result: {composition_result}\")"
   ]
  },
  {
   "cell_type": "code",
   "execution_count": null,
   "metadata": {},
   "outputs": [],
   "source": []
  }
 ],
 "metadata": {
  "kernelspec": {
   "display_name": "ds_env",
   "language": "python",
   "name": "python3"
  },
  "language_info": {
   "codemirror_mode": {
    "name": "ipython",
    "version": 3
   },
   "file_extension": ".py",
   "mimetype": "text/x-python",
   "name": "python",
   "nbconvert_exporter": "python",
   "pygments_lexer": "ipython3",
   "version": "3.11.8"
  }
 },
 "nbformat": 4,
 "nbformat_minor": 2
}
