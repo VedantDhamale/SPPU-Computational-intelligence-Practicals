{
 "cells": [
  {
   "cell_type": "code",
   "execution_count": 3,
   "metadata": {},
   "outputs": [
    {
     "name": "stdout",
     "output_type": "stream",
     "text": [
      "Union: [0.6 0.8 0.9]\n",
      "Intersection: [0.5 0.7 0.4]\n",
      "Complement of A: [0.4 0.2 0.1]\n",
      "Difference A - B: [0.5 0.3 0.6]\n",
      "Relation (A x B):\n",
      " [[0.5 0.6 0.4]\n",
      " [0.5 0.7 0.4]\n",
      " [0.5 0.7 0.4]]\n",
      "Relation (B x A):\n",
      " [[0.5 0.5 0.5]\n",
      " [0.6 0.7 0.7]\n",
      " [0.4 0.4 0.4]]\n",
      "Max-Min Composition:\n",
      " [[0.6 0.6 0.6]\n",
      " [0.6 0.7 0.7]\n",
      " [0.6 0.7 0.7]]\n"
     ]
    }
   ],
   "source": [
    "import numpy as np\n",
    "\n",
    "# Fuzzy sets\n",
    "A = np.array([0.6, 0.8, 0.9])\n",
    "B = np.array([0.5, 0.7, 0.4])\n",
    "\n",
    "# Union\n",
    "print(\"Union:\", np.maximum(A, B))\n",
    "\n",
    "# Intersection\n",
    "print(\"Intersection:\", np.minimum(A, B))\n",
    "\n",
    "# Complement\n",
    "print(\"Complement of A:\", 1 - A)\n",
    "\n",
    "# Difference\n",
    "print(\"Difference A - B:\", np.minimum(A, 1 - B))\n",
    "\n",
    "# Cartesian Product\n",
    "relation1 = np.minimum(A[:, None], B[None, :])\n",
    "relation2 = np.minimum(B[:, None], A[None, :])\n",
    "print(\"Relation (A x B):\\n\", relation1)\n",
    "print(\"Relation (B x A):\\n\", relation2)\n",
    "\n",
    "# Max-Min Composition\n",
    "comp = np.zeros((relation1.shape[0], relation2.shape[1]))\n",
    "for i in range(comp.shape[0]):\n",
    "    for j in range(comp.shape[1]):\n",
    "        comp[i, j] = np.max(np.minimum(relation1[i, :], relation2[:, j]))\n",
    "\n",
    "print(\"Max-Min Composition:\\n\", comp)"
   ]
  },
  {
   "cell_type": "code",
   "execution_count": null,
   "metadata": {},
   "outputs": [],
   "source": []
  }
 ],
 "metadata": {
  "kernelspec": {
   "display_name": "ds_env",
   "language": "python",
   "name": "python3"
  },
  "language_info": {
   "codemirror_mode": {
    "name": "ipython",
    "version": 3
   },
   "file_extension": ".py",
   "mimetype": "text/x-python",
   "name": "python",
   "nbconvert_exporter": "python",
   "pygments_lexer": "ipython3",
   "version": "3.11.8"
  }
 },
 "nbformat": 4,
 "nbformat_minor": 2
}
